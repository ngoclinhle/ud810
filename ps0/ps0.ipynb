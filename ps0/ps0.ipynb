{
 "cells": [
  {
   "cell_type": "markdown",
   "metadata": {},
   "source": [
    "# [Problem Set 0](https://docs.google.com/document/d/1PO9SuHMYhx6nDbB38ByB1QANasP1UaEiXaeGeHmp3II/pub) solutions\n"
   ]
  },
  {
   "cell_type": "code",
   "execution_count": 2,
   "metadata": {},
   "outputs": [],
   "source": [
    "import numpy as np\n",
    "import cv2"
   ]
  },
  {
   "cell_type": "code",
   "execution_count": 3,
   "metadata": {},
   "outputs": [],
   "source": [
    "def show(img, title):\n",
    "  cv2.imshow(title, img)\n",
    "  cv2.waitKey(0)\n",
    "  cv2.destroyAllWindows()"
   ]
  },
  {
   "cell_type": "code",
   "execution_count": 4,
   "metadata": {},
   "outputs": [
    {
     "name": "stdout",
     "output_type": "stream",
     "text": [
      "(512, 300, 3) (300, 512, 3)\n"
     ]
    },
    {
     "data": {
      "text/plain": [
       "True"
      ]
     },
     "execution_count": 4,
     "metadata": {},
     "output_type": "execute_result"
    }
   ],
   "source": [
    "img1 = cv2.imread('4.2.03.tiff')\n",
    "img2 = cv2.imread('4.2.05.tiff')\n",
    "img1 = img1[:, 100:400, :]\n",
    "img2 = img2[100:400, :, :]\n",
    "print(img1.shape, img2.shape)\n",
    "\n",
    "cv2.imwrite('output/ps0-1-a-1.png', img1)\n",
    "cv2.imwrite('output/ps0-1-a-2.png', img2)\n"
   ]
  },
  {
   "cell_type": "code",
   "execution_count": 5,
   "metadata": {},
   "outputs": [
    {
     "data": {
      "text/plain": [
       "True"
      ]
     },
     "execution_count": 5,
     "metadata": {},
     "output_type": "execute_result"
    }
   ],
   "source": [
    "img1_rb_swap = img1\n",
    "img1_rb_swap[:,:,0] = img1[:,:,2]\n",
    "img1_rb_swap[:,:,2] = img1[:,:,0]\n",
    "cv2.imwrite('output/ps0-2-a-1.png', img1_rb_swap)"
   ]
  },
  {
   "cell_type": "code",
   "execution_count": 6,
   "metadata": {},
   "outputs": [
    {
     "data": {
      "text/plain": [
       "True"
      ]
     },
     "execution_count": 6,
     "metadata": {},
     "output_type": "execute_result"
    }
   ],
   "source": [
    "img1_green = img1[:,:,1]\n",
    "cv2.imwrite('output/ps0-2-b-1.png', img1_green)"
   ]
  },
  {
   "cell_type": "code",
   "execution_count": 7,
   "metadata": {},
   "outputs": [
    {
     "data": {
      "text/plain": [
       "True"
      ]
     },
     "execution_count": 7,
     "metadata": {},
     "output_type": "execute_result"
    }
   ],
   "source": [
    "img1_red = img1[:,:,0]\n",
    "cv2.imwrite('output/ps0-2-c-1.png', img1_red)"
   ]
  },
  {
   "cell_type": "markdown",
   "metadata": {},
   "source": [
    "The green channel looks more realistic, with better textures/details. The red channel looks a bit dark and with less detail. \n",
    "A computer vision algorithm should work better with the green one."
   ]
  },
  {
   "cell_type": "code",
   "execution_count": 8,
   "metadata": {},
   "outputs": [
    {
     "data": {
      "text/plain": [
       "True"
      ]
     },
     "execution_count": 8,
     "metadata": {},
     "output_type": "execute_result"
    }
   ],
   "source": [
    "img2_green = img2[:,:,1]\n",
    "\n",
    "(bh, bw) = (100, 100)\n",
    "(h,w) = img1_green.shape\n",
    "xr = int(w/2-bw/2)\n",
    "yt = int(h/2-bh/2)\n",
    "img1_green_center = img1_green[\n",
    "  yt:yt + 100,\n",
    "  xr:xr + 100\n",
    "]\n",
    "\n",
    "(h,w) = img2_green.shape\n",
    "xr = int(w/2-bw/2)\n",
    "yt = int(h/2-bh/2)\n",
    "img2_green_mixed = img2_green\n",
    "img2_green_mixed[\n",
    "  yt:yt + 100,\n",
    "  xr:xr + 100\n",
    "] = img1_green_center\n",
    "\n",
    "cv2.imwrite('output/ps0-3-a-1.png', img2_green_mixed)"
   ]
  },
  {
   "cell_type": "code",
   "execution_count": 9,
   "metadata": {},
   "outputs": [
    {
     "name": "stdout",
     "output_type": "stream",
     "text": [
      "mean=126.45307291666667 max=236 std=51.68399523017755\n"
     ]
    }
   ],
   "source": [
    "mean=img1_green.mean()\n",
    "max=img1_green.max()\n",
    "std=img1_green.std()\n",
    "print(f'mean={mean} max={max} std={std}')"
   ]
  },
  {
   "cell_type": "markdown",
   "metadata": {},
   "source": [
    "mean=np.sum(img1_green)/np.prod(img1_green.shape)\n",
    "\n",
    "std=np.sqrt(np.sum((img1_green-mean)**2)/np.prod(img1_green.shape))"
   ]
  },
  {
   "cell_type": "code",
   "execution_count": 10,
   "metadata": {},
   "outputs": [
    {
     "data": {
      "text/plain": [
       "True"
      ]
     },
     "execution_count": 10,
     "metadata": {},
     "output_type": "execute_result"
    }
   ],
   "source": [
    "img1_green_norm = (img1_green - mean)/std * 10.0 + mean\n",
    "cv2.imwrite('output/ps0-4-b-1.png', img1_green_norm)"
   ]
  },
  {
   "cell_type": "code",
   "execution_count": 11,
   "metadata": {},
   "outputs": [
    {
     "data": {
      "text/plain": [
       "array([[120, 127, 128, ..., 134, 134, 139],\n",
       "       [126, 120, 135, ..., 133, 134, 134],\n",
       "       [135, 115, 135, ..., 137, 131, 126],\n",
       "       ...,\n",
       "       [122, 119, 125, ..., 119, 118, 116],\n",
       "       [121, 120, 122, ..., 117, 119, 115],\n",
       "       [105, 105, 105, ..., 105, 105, 106]])"
      ]
     },
     "execution_count": 11,
     "metadata": {},
     "output_type": "execute_result"
    }
   ],
   "source": [
    "img1_green_norm.astype(int)"
   ]
  },
  {
   "cell_type": "code",
   "execution_count": 12,
   "metadata": {},
   "outputs": [
    {
     "data": {
      "text/plain": [
       "True"
      ]
     },
     "execution_count": 12,
     "metadata": {},
     "output_type": "execute_result"
    }
   ],
   "source": [
    "img1_green_shifted = np.roll(img1_green, -2)\n",
    "cv2.imwrite('output/ps0-4-c-1.png', img1_green_shifted)"
   ]
  },
  {
   "cell_type": "code",
   "execution_count": 13,
   "metadata": {},
   "outputs": [
    {
     "data": {
      "text/plain": [
       "True"
      ]
     },
     "execution_count": 13,
     "metadata": {},
     "output_type": "execute_result"
    }
   ],
   "source": [
    "diff = img1_green.astype(int) - img1_green_shifted.astype(int)\n",
    "cv2.imwrite('output/ps0-4-d-1.png', diff)"
   ]
  },
  {
   "cell_type": "markdown",
   "metadata": {},
   "source": [
    "negative just mean darker "
   ]
  },
  {
   "cell_type": "code",
   "execution_count": 40,
   "metadata": {},
   "outputs": [
    {
     "data": {
      "text/plain": [
       "True"
      ]
     },
     "execution_count": 40,
     "metadata": {},
     "output_type": "execute_result"
    }
   ],
   "source": [
    "sigma = 15.0\n",
    "h,w = img1_green.shape\n",
    "noise = np.random.randn(h,w) * sigma\n",
    "noisy_green = img1_green + noise\n",
    "\n",
    "cv2.imwrite('output/ps0-5-a-1.png', noisy_green)"
   ]
  },
  {
   "cell_type": "code",
   "execution_count": 42,
   "metadata": {},
   "outputs": [
    {
     "data": {
      "text/plain": [
       "True"
      ]
     },
     "execution_count": 42,
     "metadata": {},
     "output_type": "execute_result"
    }
   ],
   "source": [
    "img1_blue = img1[:,:,0]\n",
    "noisy_blue = img1_blue + noise\n",
    "cv2.imwrite('output/ps0-5-b-1.png', noisy_blue)"
   ]
  }
 ],
 "metadata": {
  "kernelspec": {
   "display_name": "Python 3.8.10 ('ud810')",
   "language": "python",
   "name": "python3"
  },
  "language_info": {
   "codemirror_mode": {
    "name": "ipython",
    "version": 3
   },
   "file_extension": ".py",
   "mimetype": "text/x-python",
   "name": "python",
   "nbconvert_exporter": "python",
   "pygments_lexer": "ipython3",
   "version": "3.8.10"
  },
  "orig_nbformat": 4,
  "vscode": {
   "interpreter": {
    "hash": "9f0cc5968026d9d280f5f9cab0ee4fd1a31b405c6a2452c7a8e2785560a63a4a"
   }
  }
 },
 "nbformat": 4,
 "nbformat_minor": 2
}
